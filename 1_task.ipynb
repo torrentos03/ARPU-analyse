{
 "cells": [
  {
   "cell_type": "code",
   "execution_count": 17,
   "id": "dd2939d5",
   "metadata": {},
   "outputs": [],
   "source": [
    "import pandas as pd\n",
    "import seaborn as sns\n",
    "import numpy as np\n",
    "import time\n",
    "from datetime import datetime\n",
    "path = 'C:/Users/LEGION/Documents/Programism/Testovoe_Taras/Data.csv'\n",
    "df = pd.read_csv(path)"
   ]
  },
  {
   "cell_type": "code",
   "execution_count": 18,
   "id": "8833ed96",
   "metadata": {},
   "outputs": [],
   "source": [
    "# Please find attached a dataset of all users and their current subscription statuses from a\n",
    "# sample application. You can see the current subscription status for every user under the\n",
    "# ‘status’ column, where:\n",
    "\n",
    "# • ’free_trial’ = user is currently in 3 day free trial\n",
    "# • ‘cancelled_trial’ = user has cancelled their free trial and wasn’t charged\n",
    "# • ‘active’ = user has converted to a paid subscription and is still active\n",
    "# • ‘cancelled’ = user cancelled their paid subscription\n",
    "# • ‘expired’ = user’s subscription was cancelled because of a billing issue\n",
    "\n",
    "# ‘total_renewals’ column represents the number of periods the user has renewed their\n",
    "# subscription for. For example, for a yearly subscription, a value of 1 would represent the\n",
    "# user is in their 2nd year of the subscription\n",
    "# ‘total_spend’ column represent the total amount of money that the user has spend on\n",
    "# subscriptions.\n",
    "\n",
    "\n",
    "# 1. Calculate the LTV of the yearly (com.app.year) and weekly (com.app.week)\n",
    "# subscriptions. Please show all of the work that you did to arrive at your\n",
    "# calculations.\n",
    "\n",
    "\n",
    "# 2. Further analyze LTV and break it out by top countries. What countries have\n",
    "# the highest LTVs? What countries have the lowest LTVs?\n",
    "\n",
    "\n",
    "# 3. Further analyze LTV and break it our by top media sources. What media\n",
    "# sources have the highest LTVs? What media sources have the lowest\n",
    "# LTVs?"
   ]
  },
  {
   "cell_type": "code",
   "execution_count": 19,
   "id": "0cf66121",
   "metadata": {},
   "outputs": [],
   "source": [
    "df['first_seen_at'] = pd.to_datetime(df['first_seen_at'],unit='ms')\n",
    "df['last_seen_at'] = pd.to_datetime(df['last_seen_at'],unit='ms')\n",
    "df['first_purchase_at'] = pd.to_datetime(df['first_purchase_at'],unit='ms')\n",
    "df['trial_start_at'] = pd.to_datetime(df['trial_start_at'],unit='ms')\n",
    "df['trial_end_at'] = pd.to_datetime(df['trial_end_at'],unit='ms')\n",
    "df['most_recent_purchase_at'] = pd.to_datetime(df['most_recent_purchase_at'],unit='ms')\n",
    "df['trial_opt_out_at'] = pd.to_datetime(df['trial_opt_out_at'],unit='ms')\n",
    "df['most_recent_purchase_at'] = pd.to_datetime(df['most_recent_purchase_at'],unit='ms')\n"
   ]
  },
  {
   "cell_type": "code",
   "execution_count": 20,
   "id": "f77cb613",
   "metadata": {},
   "outputs": [],
   "source": [
    "df['lifetime'] = df['last_seen_at'] - df['first_purchase_at']"
   ]
  },
  {
   "cell_type": "code",
   "execution_count": null,
   "id": "415e8518",
   "metadata": {},
   "outputs": [],
   "source": []
  },
  {
   "cell_type": "code",
   "execution_count": null,
   "id": "b69e6e70",
   "metadata": {},
   "outputs": [],
   "source": []
  },
  {
   "cell_type": "code",
   "execution_count": null,
   "id": "b828fc06",
   "metadata": {},
   "outputs": [],
   "source": []
  },
  {
   "cell_type": "code",
   "execution_count": null,
   "id": "0a01cb0e",
   "metadata": {},
   "outputs": [],
   "source": []
  },
  {
   "cell_type": "code",
   "execution_count": 21,
   "id": "b3dec571",
   "metadata": {},
   "outputs": [
    {
     "data": {
      "text/html": [
       "<div>\n",
       "<style scoped>\n",
       "    .dataframe tbody tr th:only-of-type {\n",
       "        vertical-align: middle;\n",
       "    }\n",
       "\n",
       "    .dataframe tbody tr th {\n",
       "        vertical-align: top;\n",
       "    }\n",
       "\n",
       "    .dataframe thead th {\n",
       "        text-align: right;\n",
       "    }\n",
       "</style>\n",
       "<table border=\"1\" class=\"dataframe\">\n",
       "  <thead>\n",
       "    <tr style=\"text-align: right;\">\n",
       "      <th></th>\n",
       "      <th>first_seen_at</th>\n",
       "      <th>last_seen_at</th>\n",
       "      <th>ip_country</th>\n",
       "      <th>media_source</th>\n",
       "      <th>app_name</th>\n",
       "      <th>latest_product</th>\n",
       "      <th>first_purchase_at</th>\n",
       "      <th>trial_start_at</th>\n",
       "      <th>trial_end_at</th>\n",
       "      <th>most_recent_purchase_at</th>\n",
       "      <th>...</th>\n",
       "      <th>total_renewals</th>\n",
       "      <th>total_spent</th>\n",
       "      <th>latest_store</th>\n",
       "      <th>latest_auto_renew_intent</th>\n",
       "      <th>all_purchased_product_ids</th>\n",
       "      <th>most_recent_billing_issues_at</th>\n",
       "      <th>status</th>\n",
       "      <th>has_made_a_non_subscription_purchase</th>\n",
       "      <th>app_user_id</th>\n",
       "      <th>lifetime</th>\n",
       "    </tr>\n",
       "  </thead>\n",
       "  <tbody>\n",
       "    <tr>\n",
       "      <th>0</th>\n",
       "      <td>2021-08-16 12:55:40.413</td>\n",
       "      <td>2021-08-16 12:55:40.413</td>\n",
       "      <td>AU</td>\n",
       "      <td>Source A</td>\n",
       "      <td>Generic App</td>\n",
       "      <td>com.app.year</td>\n",
       "      <td>2020-09-19 10:49:20</td>\n",
       "      <td>2020-09-19 10:49:20</td>\n",
       "      <td>2020-09-22 10:49:20</td>\n",
       "      <td>2020-09-22 10:49:20</td>\n",
       "      <td>...</td>\n",
       "      <td>NaN</td>\n",
       "      <td>83.119974</td>\n",
       "      <td>app_store</td>\n",
       "      <td>f</td>\n",
       "      <td>com.app.year</td>\n",
       "      <td>NaN</td>\n",
       "      <td>cancelled</td>\n",
       "      <td>f</td>\n",
       "      <td>099C149F-E42D-434A-8037-87309FF9B082</td>\n",
       "      <td>331 days 02:06:20.413000</td>\n",
       "    </tr>\n",
       "    <tr>\n",
       "      <th>2</th>\n",
       "      <td>2021-08-16 08:02:52.497</td>\n",
       "      <td>2021-08-16 08:02:52.497</td>\n",
       "      <td>US</td>\n",
       "      <td>NaN</td>\n",
       "      <td>Generic App</td>\n",
       "      <td>com.app.year</td>\n",
       "      <td>2021-08-16 08:03:04</td>\n",
       "      <td>2021-08-16 08:03:04</td>\n",
       "      <td>2021-08-19 08:03:04</td>\n",
       "      <td>2021-08-16 08:03:04</td>\n",
       "      <td>...</td>\n",
       "      <td>NaN</td>\n",
       "      <td>0.000000</td>\n",
       "      <td>app_store</td>\n",
       "      <td>t</td>\n",
       "      <td>com.app.year</td>\n",
       "      <td>NaN</td>\n",
       "      <td>free_trial</td>\n",
       "      <td>f</td>\n",
       "      <td>57277B09-A9A3-40C7-95F9-12B62359D5D4</td>\n",
       "      <td>-1 days +23:59:48.497000</td>\n",
       "    </tr>\n",
       "    <tr>\n",
       "      <th>4</th>\n",
       "      <td>2021-08-16 04:14:20.960</td>\n",
       "      <td>2021-08-16 04:14:20.960</td>\n",
       "      <td>US</td>\n",
       "      <td>Source B</td>\n",
       "      <td>Generic App</td>\n",
       "      <td>com.app.year</td>\n",
       "      <td>2021-08-16 04:15:00</td>\n",
       "      <td>2021-08-16 04:15:00</td>\n",
       "      <td>2021-08-19 04:15:00</td>\n",
       "      <td>2021-08-16 04:15:00</td>\n",
       "      <td>...</td>\n",
       "      <td>NaN</td>\n",
       "      <td>0.000000</td>\n",
       "      <td>app_store</td>\n",
       "      <td>t</td>\n",
       "      <td>com.app.year</td>\n",
       "      <td>NaN</td>\n",
       "      <td>free_trial</td>\n",
       "      <td>f</td>\n",
       "      <td>5BC1AC38-85D3-4380-9334-1BD940901F7D</td>\n",
       "      <td>-1 days +23:59:20.960000</td>\n",
       "    </tr>\n",
       "    <tr>\n",
       "      <th>5</th>\n",
       "      <td>2021-08-12 00:13:31.628</td>\n",
       "      <td>2021-08-16 04:11:56.853</td>\n",
       "      <td>US</td>\n",
       "      <td>Source C</td>\n",
       "      <td>Generic App</td>\n",
       "      <td>com.app.year</td>\n",
       "      <td>2020-05-16 05:38:20</td>\n",
       "      <td>2020-05-16 05:38:20</td>\n",
       "      <td>2020-05-19 05:38:20</td>\n",
       "      <td>2021-05-19 05:38:20</td>\n",
       "      <td>...</td>\n",
       "      <td>1.0</td>\n",
       "      <td>139.980000</td>\n",
       "      <td>app_store</td>\n",
       "      <td>t</td>\n",
       "      <td>com.app.year</td>\n",
       "      <td>NaN</td>\n",
       "      <td>active</td>\n",
       "      <td>f</td>\n",
       "      <td>0F4F1DA9-E084-4450-8A28-FFC9040DEECF</td>\n",
       "      <td>456 days 22:33:36.853000</td>\n",
       "    </tr>\n",
       "    <tr>\n",
       "      <th>6</th>\n",
       "      <td>2021-08-16 03:27:18.915</td>\n",
       "      <td>2021-08-16 03:27:18.917</td>\n",
       "      <td>US</td>\n",
       "      <td>Source A</td>\n",
       "      <td>Generic App</td>\n",
       "      <td>com.app.year</td>\n",
       "      <td>2020-12-09 18:27:51</td>\n",
       "      <td>2020-12-09 18:27:51</td>\n",
       "      <td>2020-12-12 18:27:51</td>\n",
       "      <td>2020-12-12 23:22:04</td>\n",
       "      <td>...</td>\n",
       "      <td>NaN</td>\n",
       "      <td>69.990000</td>\n",
       "      <td>app_store</td>\n",
       "      <td>t</td>\n",
       "      <td>com.app.year</td>\n",
       "      <td>NaN</td>\n",
       "      <td>active</td>\n",
       "      <td>f</td>\n",
       "      <td>7E474015-ECFB-45D1-9C3C-69F593ACCE9C</td>\n",
       "      <td>249 days 08:59:27.917000</td>\n",
       "    </tr>\n",
       "  </tbody>\n",
       "</table>\n",
       "<p>5 rows × 24 columns</p>\n",
       "</div>"
      ],
      "text/plain": [
       "            first_seen_at            last_seen_at ip_country media_source  \\\n",
       "0 2021-08-16 12:55:40.413 2021-08-16 12:55:40.413         AU     Source A   \n",
       "2 2021-08-16 08:02:52.497 2021-08-16 08:02:52.497         US          NaN   \n",
       "4 2021-08-16 04:14:20.960 2021-08-16 04:14:20.960         US     Source B   \n",
       "5 2021-08-12 00:13:31.628 2021-08-16 04:11:56.853         US     Source C   \n",
       "6 2021-08-16 03:27:18.915 2021-08-16 03:27:18.917         US     Source A   \n",
       "\n",
       "      app_name latest_product   first_purchase_at      trial_start_at  \\\n",
       "0  Generic App   com.app.year 2020-09-19 10:49:20 2020-09-19 10:49:20   \n",
       "2  Generic App   com.app.year 2021-08-16 08:03:04 2021-08-16 08:03:04   \n",
       "4  Generic App   com.app.year 2021-08-16 04:15:00 2021-08-16 04:15:00   \n",
       "5  Generic App   com.app.year 2020-05-16 05:38:20 2020-05-16 05:38:20   \n",
       "6  Generic App   com.app.year 2020-12-09 18:27:51 2020-12-09 18:27:51   \n",
       "\n",
       "         trial_end_at most_recent_purchase_at  ...  total_renewals  \\\n",
       "0 2020-09-22 10:49:20     2020-09-22 10:49:20  ...             NaN   \n",
       "2 2021-08-19 08:03:04     2021-08-16 08:03:04  ...             NaN   \n",
       "4 2021-08-19 04:15:00     2021-08-16 04:15:00  ...             NaN   \n",
       "5 2020-05-19 05:38:20     2021-05-19 05:38:20  ...             1.0   \n",
       "6 2020-12-12 18:27:51     2020-12-12 23:22:04  ...             NaN   \n",
       "\n",
       "   total_spent  latest_store latest_auto_renew_intent  \\\n",
       "0    83.119974     app_store                        f   \n",
       "2     0.000000     app_store                        t   \n",
       "4     0.000000     app_store                        t   \n",
       "5   139.980000     app_store                        t   \n",
       "6    69.990000     app_store                        t   \n",
       "\n",
       "   all_purchased_product_ids  most_recent_billing_issues_at      status  \\\n",
       "0               com.app.year                            NaN   cancelled   \n",
       "2               com.app.year                            NaN  free_trial   \n",
       "4               com.app.year                            NaN  free_trial   \n",
       "5               com.app.year                            NaN      active   \n",
       "6               com.app.year                            NaN      active   \n",
       "\n",
       "  has_made_a_non_subscription_purchase                           app_user_id  \\\n",
       "0                                    f  099C149F-E42D-434A-8037-87309FF9B082   \n",
       "2                                    f  57277B09-A9A3-40C7-95F9-12B62359D5D4   \n",
       "4                                    f  5BC1AC38-85D3-4380-9334-1BD940901F7D   \n",
       "5                                    f  0F4F1DA9-E084-4450-8A28-FFC9040DEECF   \n",
       "6                                    f  7E474015-ECFB-45D1-9C3C-69F593ACCE9C   \n",
       "\n",
       "                  lifetime  \n",
       "0 331 days 02:06:20.413000  \n",
       "2 -1 days +23:59:48.497000  \n",
       "4 -1 days +23:59:20.960000  \n",
       "5 456 days 22:33:36.853000  \n",
       "6 249 days 08:59:27.917000  \n",
       "\n",
       "[5 rows x 24 columns]"
      ]
     },
     "execution_count": 21,
     "metadata": {},
     "output_type": "execute_result"
    }
   ],
   "source": [
    "#Count year subs\n",
    "\n",
    "year_df = df.query(\"all_purchased_product_ids == 'com.app.year'\")\n",
    "year_df.head(5)"
   ]
  },
  {
   "cell_type": "code",
   "execution_count": 22,
   "id": "fb0b5abe",
   "metadata": {},
   "outputs": [],
   "source": [
    "#All, who spent money\n",
    "purchases_year = year_df.query('total_spent > 0')"
   ]
  },
  {
   "cell_type": "code",
   "execution_count": 23,
   "id": "940eb7e4",
   "metadata": {},
   "outputs": [
    {
     "name": "stderr",
     "output_type": "stream",
     "text": [
      "<ipython-input-23-062a5a28d16f>:2: SettingWithCopyWarning: \n",
      "A value is trying to be set on a copy of a slice from a DataFrame.\n",
      "Try using .loc[row_indexer,col_indexer] = value instead\n",
      "\n",
      "See the caveats in the documentation: https://pandas.pydata.org/pandas-docs/stable/user_guide/indexing.html#returning-a-view-versus-a-copy\n",
      "  purchases_year['total_renewals'] = purchases_year['total_renewals'] + 1\n",
      "<ipython-input-23-062a5a28d16f>:3: SettingWithCopyWarning: \n",
      "A value is trying to be set on a copy of a slice from a DataFrame.\n",
      "Try using .loc[row_indexer,col_indexer] = value instead\n",
      "\n",
      "See the caveats in the documentation: https://pandas.pydata.org/pandas-docs/stable/user_guide/indexing.html#returning-a-view-versus-a-copy\n",
      "  purchases_year['total_renewals'] = purchases_year['total_renewals'].fillna(1)\n"
     ]
    },
    {
     "data": {
      "text/html": [
       "<div>\n",
       "<style scoped>\n",
       "    .dataframe tbody tr th:only-of-type {\n",
       "        vertical-align: middle;\n",
       "    }\n",
       "\n",
       "    .dataframe tbody tr th {\n",
       "        vertical-align: top;\n",
       "    }\n",
       "\n",
       "    .dataframe thead th {\n",
       "        text-align: right;\n",
       "    }\n",
       "</style>\n",
       "<table border=\"1\" class=\"dataframe\">\n",
       "  <thead>\n",
       "    <tr style=\"text-align: right;\">\n",
       "      <th></th>\n",
       "      <th>first_seen_at</th>\n",
       "      <th>last_seen_at</th>\n",
       "      <th>ip_country</th>\n",
       "      <th>media_source</th>\n",
       "      <th>app_name</th>\n",
       "      <th>latest_product</th>\n",
       "      <th>first_purchase_at</th>\n",
       "      <th>trial_start_at</th>\n",
       "      <th>trial_end_at</th>\n",
       "      <th>most_recent_purchase_at</th>\n",
       "      <th>...</th>\n",
       "      <th>total_renewals</th>\n",
       "      <th>total_spent</th>\n",
       "      <th>latest_store</th>\n",
       "      <th>latest_auto_renew_intent</th>\n",
       "      <th>all_purchased_product_ids</th>\n",
       "      <th>most_recent_billing_issues_at</th>\n",
       "      <th>status</th>\n",
       "      <th>has_made_a_non_subscription_purchase</th>\n",
       "      <th>app_user_id</th>\n",
       "      <th>lifetime</th>\n",
       "    </tr>\n",
       "  </thead>\n",
       "  <tbody>\n",
       "    <tr>\n",
       "      <th>0</th>\n",
       "      <td>2021-08-16 12:55:40.413</td>\n",
       "      <td>2021-08-16 12:55:40.413</td>\n",
       "      <td>AU</td>\n",
       "      <td>Source A</td>\n",
       "      <td>Generic App</td>\n",
       "      <td>com.app.year</td>\n",
       "      <td>2020-09-19 10:49:20</td>\n",
       "      <td>2020-09-19 10:49:20</td>\n",
       "      <td>2020-09-22 10:49:20</td>\n",
       "      <td>2020-09-22 10:49:20</td>\n",
       "      <td>...</td>\n",
       "      <td>1.0</td>\n",
       "      <td>83.119974</td>\n",
       "      <td>app_store</td>\n",
       "      <td>f</td>\n",
       "      <td>com.app.year</td>\n",
       "      <td>NaN</td>\n",
       "      <td>cancelled</td>\n",
       "      <td>f</td>\n",
       "      <td>099C149F-E42D-434A-8037-87309FF9B082</td>\n",
       "      <td>331 days 02:06:20.413000</td>\n",
       "    </tr>\n",
       "    <tr>\n",
       "      <th>5</th>\n",
       "      <td>2021-08-12 00:13:31.628</td>\n",
       "      <td>2021-08-16 04:11:56.853</td>\n",
       "      <td>US</td>\n",
       "      <td>Source C</td>\n",
       "      <td>Generic App</td>\n",
       "      <td>com.app.year</td>\n",
       "      <td>2020-05-16 05:38:20</td>\n",
       "      <td>2020-05-16 05:38:20</td>\n",
       "      <td>2020-05-19 05:38:20</td>\n",
       "      <td>2021-05-19 05:38:20</td>\n",
       "      <td>...</td>\n",
       "      <td>2.0</td>\n",
       "      <td>139.980000</td>\n",
       "      <td>app_store</td>\n",
       "      <td>t</td>\n",
       "      <td>com.app.year</td>\n",
       "      <td>NaN</td>\n",
       "      <td>active</td>\n",
       "      <td>f</td>\n",
       "      <td>0F4F1DA9-E084-4450-8A28-FFC9040DEECF</td>\n",
       "      <td>456 days 22:33:36.853000</td>\n",
       "    </tr>\n",
       "    <tr>\n",
       "      <th>6</th>\n",
       "      <td>2021-08-16 03:27:18.915</td>\n",
       "      <td>2021-08-16 03:27:18.917</td>\n",
       "      <td>US</td>\n",
       "      <td>Source A</td>\n",
       "      <td>Generic App</td>\n",
       "      <td>com.app.year</td>\n",
       "      <td>2020-12-09 18:27:51</td>\n",
       "      <td>2020-12-09 18:27:51</td>\n",
       "      <td>2020-12-12 18:27:51</td>\n",
       "      <td>2020-12-12 23:22:04</td>\n",
       "      <td>...</td>\n",
       "      <td>1.0</td>\n",
       "      <td>69.990000</td>\n",
       "      <td>app_store</td>\n",
       "      <td>t</td>\n",
       "      <td>com.app.year</td>\n",
       "      <td>NaN</td>\n",
       "      <td>active</td>\n",
       "      <td>f</td>\n",
       "      <td>7E474015-ECFB-45D1-9C3C-69F593ACCE9C</td>\n",
       "      <td>249 days 08:59:27.917000</td>\n",
       "    </tr>\n",
       "    <tr>\n",
       "      <th>10</th>\n",
       "      <td>2021-08-16 01:17:52.872</td>\n",
       "      <td>2021-08-16 01:17:52.872</td>\n",
       "      <td>US</td>\n",
       "      <td>Source A</td>\n",
       "      <td>Generic App</td>\n",
       "      <td>com.app.year</td>\n",
       "      <td>2020-08-14 19:54:39</td>\n",
       "      <td>2020-08-14 19:54:39</td>\n",
       "      <td>2020-08-17 19:54:39</td>\n",
       "      <td>2020-08-17 19:54:39</td>\n",
       "      <td>...</td>\n",
       "      <td>1.0</td>\n",
       "      <td>69.990000</td>\n",
       "      <td>app_store</td>\n",
       "      <td>f</td>\n",
       "      <td>com.app.year</td>\n",
       "      <td>NaN</td>\n",
       "      <td>cancelled</td>\n",
       "      <td>f</td>\n",
       "      <td>E74C6AEC-4F97-494E-94A1-0B843AE2D1DD</td>\n",
       "      <td>366 days 05:23:13.872000</td>\n",
       "    </tr>\n",
       "    <tr>\n",
       "      <th>12</th>\n",
       "      <td>2021-08-15 23:47:46.650</td>\n",
       "      <td>2021-08-15 23:47:46.650</td>\n",
       "      <td>US</td>\n",
       "      <td>Source A</td>\n",
       "      <td>Generic App</td>\n",
       "      <td>com.app.year</td>\n",
       "      <td>2020-09-07 00:33:26</td>\n",
       "      <td>2020-09-07 00:33:26</td>\n",
       "      <td>2020-09-10 00:33:26</td>\n",
       "      <td>2020-09-10 00:33:26</td>\n",
       "      <td>...</td>\n",
       "      <td>1.0</td>\n",
       "      <td>69.990000</td>\n",
       "      <td>app_store</td>\n",
       "      <td>f</td>\n",
       "      <td>com.app.year</td>\n",
       "      <td>NaN</td>\n",
       "      <td>cancelled</td>\n",
       "      <td>f</td>\n",
       "      <td>CA9E31B6-73CB-40F6-9FBA-290AB6034B28</td>\n",
       "      <td>342 days 23:14:20.650000</td>\n",
       "    </tr>\n",
       "  </tbody>\n",
       "</table>\n",
       "<p>5 rows × 24 columns</p>\n",
       "</div>"
      ],
      "text/plain": [
       "             first_seen_at            last_seen_at ip_country media_source  \\\n",
       "0  2021-08-16 12:55:40.413 2021-08-16 12:55:40.413         AU     Source A   \n",
       "5  2021-08-12 00:13:31.628 2021-08-16 04:11:56.853         US     Source C   \n",
       "6  2021-08-16 03:27:18.915 2021-08-16 03:27:18.917         US     Source A   \n",
       "10 2021-08-16 01:17:52.872 2021-08-16 01:17:52.872         US     Source A   \n",
       "12 2021-08-15 23:47:46.650 2021-08-15 23:47:46.650         US     Source A   \n",
       "\n",
       "       app_name latest_product   first_purchase_at      trial_start_at  \\\n",
       "0   Generic App   com.app.year 2020-09-19 10:49:20 2020-09-19 10:49:20   \n",
       "5   Generic App   com.app.year 2020-05-16 05:38:20 2020-05-16 05:38:20   \n",
       "6   Generic App   com.app.year 2020-12-09 18:27:51 2020-12-09 18:27:51   \n",
       "10  Generic App   com.app.year 2020-08-14 19:54:39 2020-08-14 19:54:39   \n",
       "12  Generic App   com.app.year 2020-09-07 00:33:26 2020-09-07 00:33:26   \n",
       "\n",
       "          trial_end_at most_recent_purchase_at  ...  total_renewals  \\\n",
       "0  2020-09-22 10:49:20     2020-09-22 10:49:20  ...             1.0   \n",
       "5  2020-05-19 05:38:20     2021-05-19 05:38:20  ...             2.0   \n",
       "6  2020-12-12 18:27:51     2020-12-12 23:22:04  ...             1.0   \n",
       "10 2020-08-17 19:54:39     2020-08-17 19:54:39  ...             1.0   \n",
       "12 2020-09-10 00:33:26     2020-09-10 00:33:26  ...             1.0   \n",
       "\n",
       "    total_spent  latest_store latest_auto_renew_intent  \\\n",
       "0     83.119974     app_store                        f   \n",
       "5    139.980000     app_store                        t   \n",
       "6     69.990000     app_store                        t   \n",
       "10    69.990000     app_store                        f   \n",
       "12    69.990000     app_store                        f   \n",
       "\n",
       "    all_purchased_product_ids  most_recent_billing_issues_at     status  \\\n",
       "0                com.app.year                            NaN  cancelled   \n",
       "5                com.app.year                            NaN     active   \n",
       "6                com.app.year                            NaN     active   \n",
       "10               com.app.year                            NaN  cancelled   \n",
       "12               com.app.year                            NaN  cancelled   \n",
       "\n",
       "   has_made_a_non_subscription_purchase                           app_user_id  \\\n",
       "0                                     f  099C149F-E42D-434A-8037-87309FF9B082   \n",
       "5                                     f  0F4F1DA9-E084-4450-8A28-FFC9040DEECF   \n",
       "6                                     f  7E474015-ECFB-45D1-9C3C-69F593ACCE9C   \n",
       "10                                    f  E74C6AEC-4F97-494E-94A1-0B843AE2D1DD   \n",
       "12                                    f  CA9E31B6-73CB-40F6-9FBA-290AB6034B28   \n",
       "\n",
       "                   lifetime  \n",
       "0  331 days 02:06:20.413000  \n",
       "5  456 days 22:33:36.853000  \n",
       "6  249 days 08:59:27.917000  \n",
       "10 366 days 05:23:13.872000  \n",
       "12 342 days 23:14:20.650000  \n",
       "\n",
       "[5 rows x 24 columns]"
      ]
     },
     "execution_count": 23,
     "metadata": {},
     "output_type": "execute_result"
    }
   ],
   "source": [
    "purchases_year['total_renewals'] = purchases_year['total_renewals'] + 1\n",
    "purchases_year['total_renewals'] = purchases_year['total_renewals'].fillna(1)\n",
    "purchases_year.head(5)"
   ]
  },
  {
   "cell_type": "code",
   "execution_count": 24,
   "id": "3f28a50d",
   "metadata": {},
   "outputs": [
    {
     "data": {
      "text/plain": [
       "1.12"
      ]
     },
     "execution_count": 24,
     "metadata": {},
     "output_type": "execute_result"
    }
   ],
   "source": [
    "#Count repeat purchases\n",
    "repeat_purch_year =  purchases_year['total_renewals'].sum() / purchases_year['total_renewals'].shape[0]\n",
    "repeat_purch_year.round(2)"
   ]
  },
  {
   "cell_type": "code",
   "execution_count": 25,
   "id": "cedbb0d7",
   "metadata": {},
   "outputs": [
    {
     "data": {
      "text/plain": [
       "71.76"
      ]
     },
     "execution_count": 25,
     "metadata": {},
     "output_type": "execute_result"
    }
   ],
   "source": [
    "#Count Average Check\n",
    "revenue = year_df['total_spent'].sum().round(2)\n",
    "avg_check = revenue / purchases_year['total_renewals'].sum()\n",
    "avg_check = avg_check.round(2)\n",
    "avg_check"
   ]
  },
  {
   "cell_type": "code",
   "execution_count": 27,
   "id": "d1e933a6",
   "metadata": {},
   "outputs": [
    {
     "data": {
      "text/plain": [
       "80.4"
      ]
     },
     "execution_count": 27,
     "metadata": {},
     "output_type": "execute_result"
    }
   ],
   "source": [
    "#Count ARPU\n",
    "ARPPU_year = repeat_purch_year * avg_check\n",
    "ARPPU_year = ARPPU_year.round(2)\n",
    "ARPPU_year"
   ]
  },
  {
   "cell_type": "code",
   "execution_count": 28,
   "id": "3f06c691",
   "metadata": {},
   "outputs": [
    {
     "data": {
      "text/plain": [
       "80.4"
      ]
     },
     "execution_count": 28,
     "metadata": {},
     "output_type": "execute_result"
    }
   ],
   "source": [
    "#ARPPU_2\n",
    "ARPPU_2 = revenue / purchases_year['total_renewals'].shape[0]\n",
    "ARPPU_2 = ARPPU_2.round(2)\n",
    "ARPPU_2"
   ]
  },
  {
   "cell_type": "code",
   "execution_count": 29,
   "id": "d2c41279",
   "metadata": {},
   "outputs": [
    {
     "data": {
      "text/plain": [
       "0.49"
      ]
     },
     "execution_count": 29,
     "metadata": {},
     "output_type": "execute_result"
    }
   ],
   "source": [
    "#Count CR\n",
    "shape_users = year_df['app_user_id'].shape[0]\n",
    "shape_customers = purchases_year['app_user_id'].shape[0]\n",
    "conv_year = shape_customers / shape_users\n",
    "round(conv_year, 2) "
   ]
  },
  {
   "cell_type": "code",
   "execution_count": 30,
   "id": "425ce128",
   "metadata": {},
   "outputs": [
    {
     "data": {
      "text/plain": [
       "39.69"
      ]
     },
     "execution_count": 30,
     "metadata": {},
     "output_type": "execute_result"
    }
   ],
   "source": [
    "#Count year arpu\n",
    "ARPU = conv_year * ARPPU_year\n",
    "ARPU = ARPU.round(2)\n",
    "ARPU"
   ]
  },
  {
   "cell_type": "code",
   "execution_count": null,
   "id": "187c6da8",
   "metadata": {},
   "outputs": [],
   "source": []
  },
  {
   "cell_type": "code",
   "execution_count": null,
   "id": "49a1be5e",
   "metadata": {},
   "outputs": [],
   "source": []
  },
  {
   "cell_type": "code",
   "execution_count": null,
   "id": "4506785b",
   "metadata": {},
   "outputs": [],
   "source": []
  },
  {
   "cell_type": "code",
   "execution_count": null,
   "id": "cbdb16b3",
   "metadata": {},
   "outputs": [],
   "source": []
  },
  {
   "cell_type": "code",
   "execution_count": null,
   "id": "a1f3e44b",
   "metadata": {},
   "outputs": [],
   "source": []
  },
  {
   "cell_type": "code",
   "execution_count": 35,
   "id": "31199bb4",
   "metadata": {},
   "outputs": [
    {
     "data": {
      "text/html": [
       "<div>\n",
       "<style scoped>\n",
       "    .dataframe tbody tr th:only-of-type {\n",
       "        vertical-align: middle;\n",
       "    }\n",
       "\n",
       "    .dataframe tbody tr th {\n",
       "        vertical-align: top;\n",
       "    }\n",
       "\n",
       "    .dataframe thead th {\n",
       "        text-align: right;\n",
       "    }\n",
       "</style>\n",
       "<table border=\"1\" class=\"dataframe\">\n",
       "  <thead>\n",
       "    <tr style=\"text-align: right;\">\n",
       "      <th></th>\n",
       "      <th>first_seen_at</th>\n",
       "      <th>last_seen_at</th>\n",
       "      <th>ip_country</th>\n",
       "      <th>media_source</th>\n",
       "      <th>app_name</th>\n",
       "      <th>latest_product</th>\n",
       "      <th>first_purchase_at</th>\n",
       "      <th>trial_start_at</th>\n",
       "      <th>trial_end_at</th>\n",
       "      <th>most_recent_purchase_at</th>\n",
       "      <th>...</th>\n",
       "      <th>total_renewals</th>\n",
       "      <th>total_spent</th>\n",
       "      <th>latest_store</th>\n",
       "      <th>latest_auto_renew_intent</th>\n",
       "      <th>all_purchased_product_ids</th>\n",
       "      <th>most_recent_billing_issues_at</th>\n",
       "      <th>status</th>\n",
       "      <th>has_made_a_non_subscription_purchase</th>\n",
       "      <th>app_user_id</th>\n",
       "      <th>lifetime</th>\n",
       "    </tr>\n",
       "  </thead>\n",
       "  <tbody>\n",
       "    <tr>\n",
       "      <th>1</th>\n",
       "      <td>2021-08-16 09:59:21.395</td>\n",
       "      <td>2021-08-16 09:59:21.395</td>\n",
       "      <td>VN</td>\n",
       "      <td>NaN</td>\n",
       "      <td>Generic App</td>\n",
       "      <td>com.app.week</td>\n",
       "      <td>2021-08-16 10:00:02</td>\n",
       "      <td>2021-08-16 10:00:02</td>\n",
       "      <td>2021-08-19 10:00:02</td>\n",
       "      <td>2021-08-16 10:00:02</td>\n",
       "      <td>...</td>\n",
       "      <td>NaN</td>\n",
       "      <td>0.000000</td>\n",
       "      <td>app_store</td>\n",
       "      <td>t</td>\n",
       "      <td>com.app.week</td>\n",
       "      <td>NaN</td>\n",
       "      <td>free_trial</td>\n",
       "      <td>f</td>\n",
       "      <td>422A0FD8-7884-4AC8-A9BC-A415626C2536</td>\n",
       "      <td>-1 days +23:59:19.395000</td>\n",
       "    </tr>\n",
       "    <tr>\n",
       "      <th>3</th>\n",
       "      <td>2021-08-16 07:34:55.760</td>\n",
       "      <td>2021-08-16 07:34:55.761</td>\n",
       "      <td>VN</td>\n",
       "      <td>Source X</td>\n",
       "      <td>Generic App</td>\n",
       "      <td>com.app.week</td>\n",
       "      <td>2021-08-16 07:35:55</td>\n",
       "      <td>2021-08-16 07:35:55</td>\n",
       "      <td>2021-08-19 07:35:55</td>\n",
       "      <td>2021-08-16 07:35:55</td>\n",
       "      <td>...</td>\n",
       "      <td>NaN</td>\n",
       "      <td>0.000000</td>\n",
       "      <td>app_store</td>\n",
       "      <td>t</td>\n",
       "      <td>com.app.week</td>\n",
       "      <td>NaN</td>\n",
       "      <td>free_trial</td>\n",
       "      <td>f</td>\n",
       "      <td>06F2F797-6DC5-4BC6-9288-FE3748AA409B</td>\n",
       "      <td>-1 days +23:59:00.761000</td>\n",
       "    </tr>\n",
       "    <tr>\n",
       "      <th>7</th>\n",
       "      <td>2021-08-16 02:12:36.024</td>\n",
       "      <td>2021-08-16 02:12:36.024</td>\n",
       "      <td>AU</td>\n",
       "      <td>Source C</td>\n",
       "      <td>Generic App</td>\n",
       "      <td>com.app.week</td>\n",
       "      <td>2021-08-16 02:13:39</td>\n",
       "      <td>2021-08-16 02:13:39</td>\n",
       "      <td>2021-08-19 02:13:39</td>\n",
       "      <td>2021-08-16 02:13:39</td>\n",
       "      <td>...</td>\n",
       "      <td>NaN</td>\n",
       "      <td>0.000000</td>\n",
       "      <td>app_store</td>\n",
       "      <td>t</td>\n",
       "      <td>com.app.week</td>\n",
       "      <td>NaN</td>\n",
       "      <td>free_trial</td>\n",
       "      <td>f</td>\n",
       "      <td>0C391AD4-504D-4C80-96A6-3158E951836F</td>\n",
       "      <td>-1 days +23:58:57.024000</td>\n",
       "    </tr>\n",
       "    <tr>\n",
       "      <th>8</th>\n",
       "      <td>2021-08-16 01:29:21.189</td>\n",
       "      <td>2021-08-16 01:29:21.189</td>\n",
       "      <td>BS</td>\n",
       "      <td>NaN</td>\n",
       "      <td>Generic App</td>\n",
       "      <td>com.app.week</td>\n",
       "      <td>2021-08-16 01:30:08</td>\n",
       "      <td>2021-08-16 01:30:08</td>\n",
       "      <td>2021-08-19 01:30:08</td>\n",
       "      <td>2021-08-16 01:30:08</td>\n",
       "      <td>...</td>\n",
       "      <td>NaN</td>\n",
       "      <td>0.000000</td>\n",
       "      <td>app_store</td>\n",
       "      <td>t</td>\n",
       "      <td>com.app.week</td>\n",
       "      <td>NaN</td>\n",
       "      <td>free_trial</td>\n",
       "      <td>f</td>\n",
       "      <td>9F23EF0C-3001-4042-B797-0AB587DF1AD5</td>\n",
       "      <td>-1 days +23:59:13.189000</td>\n",
       "    </tr>\n",
       "    <tr>\n",
       "      <th>21</th>\n",
       "      <td>2021-06-01 11:02:41.428</td>\n",
       "      <td>2021-08-15 17:26:04.591</td>\n",
       "      <td>GB</td>\n",
       "      <td>Source X</td>\n",
       "      <td>Generic App</td>\n",
       "      <td>com.app.week</td>\n",
       "      <td>2020-08-31 20:48:51</td>\n",
       "      <td>2020-08-31 20:48:51</td>\n",
       "      <td>2020-09-03 20:48:51</td>\n",
       "      <td>2021-08-15 17:28:11</td>\n",
       "      <td>...</td>\n",
       "      <td>NaN</td>\n",
       "      <td>9.691629</td>\n",
       "      <td>app_store</td>\n",
       "      <td>t</td>\n",
       "      <td>com.app.week</td>\n",
       "      <td>NaN</td>\n",
       "      <td>active</td>\n",
       "      <td>f</td>\n",
       "      <td>3AAEBB3F-3CCB-4453-9259-C60E8C1F065D</td>\n",
       "      <td>348 days 20:37:13.591000</td>\n",
       "    </tr>\n",
       "  </tbody>\n",
       "</table>\n",
       "<p>5 rows × 24 columns</p>\n",
       "</div>"
      ],
      "text/plain": [
       "             first_seen_at            last_seen_at ip_country media_source  \\\n",
       "1  2021-08-16 09:59:21.395 2021-08-16 09:59:21.395         VN          NaN   \n",
       "3  2021-08-16 07:34:55.760 2021-08-16 07:34:55.761         VN     Source X   \n",
       "7  2021-08-16 02:12:36.024 2021-08-16 02:12:36.024         AU     Source C   \n",
       "8  2021-08-16 01:29:21.189 2021-08-16 01:29:21.189         BS          NaN   \n",
       "21 2021-06-01 11:02:41.428 2021-08-15 17:26:04.591         GB     Source X   \n",
       "\n",
       "       app_name latest_product   first_purchase_at      trial_start_at  \\\n",
       "1   Generic App   com.app.week 2021-08-16 10:00:02 2021-08-16 10:00:02   \n",
       "3   Generic App   com.app.week 2021-08-16 07:35:55 2021-08-16 07:35:55   \n",
       "7   Generic App   com.app.week 2021-08-16 02:13:39 2021-08-16 02:13:39   \n",
       "8   Generic App   com.app.week 2021-08-16 01:30:08 2021-08-16 01:30:08   \n",
       "21  Generic App   com.app.week 2020-08-31 20:48:51 2020-08-31 20:48:51   \n",
       "\n",
       "          trial_end_at most_recent_purchase_at  ...  total_renewals  \\\n",
       "1  2021-08-19 10:00:02     2021-08-16 10:00:02  ...             NaN   \n",
       "3  2021-08-19 07:35:55     2021-08-16 07:35:55  ...             NaN   \n",
       "7  2021-08-19 02:13:39     2021-08-16 02:13:39  ...             NaN   \n",
       "8  2021-08-19 01:30:08     2021-08-16 01:30:08  ...             NaN   \n",
       "21 2020-09-03 20:48:51     2021-08-15 17:28:11  ...             NaN   \n",
       "\n",
       "    total_spent  latest_store latest_auto_renew_intent  \\\n",
       "1      0.000000     app_store                        t   \n",
       "3      0.000000     app_store                        t   \n",
       "7      0.000000     app_store                        t   \n",
       "8      0.000000     app_store                        t   \n",
       "21     9.691629     app_store                        t   \n",
       "\n",
       "    all_purchased_product_ids  most_recent_billing_issues_at      status  \\\n",
       "1                com.app.week                            NaN  free_trial   \n",
       "3                com.app.week                            NaN  free_trial   \n",
       "7                com.app.week                            NaN  free_trial   \n",
       "8                com.app.week                            NaN  free_trial   \n",
       "21               com.app.week                            NaN      active   \n",
       "\n",
       "   has_made_a_non_subscription_purchase                           app_user_id  \\\n",
       "1                                     f  422A0FD8-7884-4AC8-A9BC-A415626C2536   \n",
       "3                                     f  06F2F797-6DC5-4BC6-9288-FE3748AA409B   \n",
       "7                                     f  0C391AD4-504D-4C80-96A6-3158E951836F   \n",
       "8                                     f  9F23EF0C-3001-4042-B797-0AB587DF1AD5   \n",
       "21                                    f  3AAEBB3F-3CCB-4453-9259-C60E8C1F065D   \n",
       "\n",
       "                   lifetime  \n",
       "1  -1 days +23:59:19.395000  \n",
       "3  -1 days +23:59:00.761000  \n",
       "7  -1 days +23:58:57.024000  \n",
       "8  -1 days +23:59:13.189000  \n",
       "21 348 days 20:37:13.591000  \n",
       "\n",
       "[5 rows x 24 columns]"
      ]
     },
     "execution_count": 35,
     "metadata": {},
     "output_type": "execute_result"
    }
   ],
   "source": [
    "#Count week subs\n",
    "week_df = df.query(\"all_purchased_product_ids == 'com.app.week'\")\n",
    "week_df.head(5)"
   ]
  },
  {
   "cell_type": "code",
   "execution_count": 36,
   "id": "c22bbf48",
   "metadata": {},
   "outputs": [],
   "source": [
    "purchases_week = week_df.query('total_spent > 0')"
   ]
  },
  {
   "cell_type": "code",
   "execution_count": 37,
   "id": "da39c1e7",
   "metadata": {},
   "outputs": [
    {
     "name": "stderr",
     "output_type": "stream",
     "text": [
      "<ipython-input-37-8c8811efff58>:2: SettingWithCopyWarning: \n",
      "A value is trying to be set on a copy of a slice from a DataFrame.\n",
      "Try using .loc[row_indexer,col_indexer] = value instead\n",
      "\n",
      "See the caveats in the documentation: https://pandas.pydata.org/pandas-docs/stable/user_guide/indexing.html#returning-a-view-versus-a-copy\n",
      "  purchases_week['total_renewals'] = purchases_week['total_renewals'] + 1\n",
      "<ipython-input-37-8c8811efff58>:3: SettingWithCopyWarning: \n",
      "A value is trying to be set on a copy of a slice from a DataFrame.\n",
      "Try using .loc[row_indexer,col_indexer] = value instead\n",
      "\n",
      "See the caveats in the documentation: https://pandas.pydata.org/pandas-docs/stable/user_guide/indexing.html#returning-a-view-versus-a-copy\n",
      "  purchases_week['total_renewals'] = purchases_week['total_renewals'].fillna(1)\n"
     ]
    }
   ],
   "source": [
    "#Правильно отображаем количество покупок\n",
    "purchases_week['total_renewals'] = purchases_week['total_renewals'] + 1\n",
    "purchases_week['total_renewals'] = purchases_week['total_renewals'].fillna(1)"
   ]
  },
  {
   "cell_type": "code",
   "execution_count": 41,
   "id": "c4c692b1",
   "metadata": {},
   "outputs": [
    {
     "data": {
      "text/plain": [
       "11.2"
      ]
     },
     "execution_count": 41,
     "metadata": {},
     "output_type": "execute_result"
    }
   ],
   "source": [
    "#Count repeat purchases\n",
    "repeat_purch_week =  purchases_week['total_renewals'].sum() / purchases_week['total_renewals'].shape[0]\n",
    "repeat_purch_week.round(2)"
   ]
  },
  {
   "cell_type": "code",
   "execution_count": 48,
   "id": "2dfd3b0a",
   "metadata": {
    "scrolled": true
   },
   "outputs": [
    {
     "data": {
      "text/plain": [
       "8.61"
      ]
     },
     "execution_count": 48,
     "metadata": {},
     "output_type": "execute_result"
    }
   ],
   "source": [
    "#Count average check\n",
    "revenue_week = week_df['total_spent'].sum().round(2)\n",
    "avg_check_week = revenue_week / purchases_week['total_renewals'].sum()\n",
    "avg_check_week = avg_check_week.round(2)\n",
    "avg_check_week"
   ]
  },
  {
   "cell_type": "code",
   "execution_count": 43,
   "id": "987bae65",
   "metadata": {},
   "outputs": [
    {
     "data": {
      "text/plain": [
       "96.47"
      ]
     },
     "execution_count": 43,
     "metadata": {},
     "output_type": "execute_result"
    }
   ],
   "source": [
    "#Count ARPPU\n",
    "ARPPU_week = repeat_purch_week * avg_check_week\n",
    "ARPPU_week = ARPPU_week.round(2)\n",
    "ARPPU_week"
   ]
  },
  {
   "cell_type": "code",
   "execution_count": 44,
   "id": "d6adf4d3",
   "metadata": {
    "scrolled": true
   },
   "outputs": [
    {
     "data": {
      "text/plain": [
       "0.56"
      ]
     },
     "execution_count": 44,
     "metadata": {},
     "output_type": "execute_result"
    }
   ],
   "source": [
    "#Count CR\n",
    "shape_users_week = week_df['app_user_id'].shape[0]\n",
    "shape_customers_week = purchases_week['app_user_id'].shape[0]\n",
    "conv_week = shape_customers_week / shape_users_week\n",
    "round(conv_week, 2)"
   ]
  },
  {
   "cell_type": "code",
   "execution_count": 45,
   "id": "9a966be3",
   "metadata": {},
   "outputs": [
    {
     "data": {
      "text/plain": [
       "53.74"
      ]
     },
     "execution_count": 45,
     "metadata": {},
     "output_type": "execute_result"
    }
   ],
   "source": [
    "#Count ARPU\n",
    "ARPU_week = conv_week * ARPPU_week\n",
    "ARPU_week = ARPU_week.round(2)\n",
    "ARPU_week"
   ]
  },
  {
   "cell_type": "code",
   "execution_count": null,
   "id": "9a438d9d",
   "metadata": {},
   "outputs": [],
   "source": []
  },
  {
   "cell_type": "code",
   "execution_count": null,
   "id": "8eca5c17",
   "metadata": {},
   "outputs": [],
   "source": []
  }
 ],
 "metadata": {
  "kernelspec": {
   "display_name": "Python 3",
   "language": "python",
   "name": "python3"
  },
  "language_info": {
   "codemirror_mode": {
    "name": "ipython",
    "version": 3
   },
   "file_extension": ".py",
   "mimetype": "text/x-python",
   "name": "python",
   "nbconvert_exporter": "python",
   "pygments_lexer": "ipython3",
   "version": "3.8.8"
  }
 },
 "nbformat": 4,
 "nbformat_minor": 5
}
